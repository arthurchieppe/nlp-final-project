{
 "cells": [
  {
   "cell_type": "code",
   "execution_count": 1,
   "metadata": {},
   "outputs": [
    {
     "name": "stderr",
     "output_type": "stream",
     "text": [
      "/Users/arthurchieppe/Documents/10o-semestre/nlp/final-project/.venv/lib/python3.12/site-packages/tqdm/auto.py:21: TqdmWarning: IProgress not found. Please update jupyter and ipywidgets. See https://ipywidgets.readthedocs.io/en/stable/user_install.html\n",
      "  from .autonotebook import tqdm as notebook_tqdm\n"
     ]
    }
   ],
   "source": [
    "import spacy\n",
    "import torch\n",
    "from torch import nn\n",
    "from torch.utils.data import DataLoader, Dataset\n",
    "from sklearn.model_selection import train_test_split\n",
    "import numpy as np\n",
    "from datasets import load_dataset\n",
    "\n",
    "# Load the IMDB dataset\n",
    "imdb = load_dataset(\"imdb\")\n",
    "train_texts = imdb[\"train\"][\"text\"]\n",
    "train_labels = imdb[\"train\"][\"label\"]\n",
    "test_texts = imdb[\"test\"][\"text\"]\n",
    "test_labels = imdb[\"test\"][\"label\"]"
   ]
  },
  {
   "cell_type": "code",
   "execution_count": 2,
   "metadata": {},
   "outputs": [
    {
     "name": "stdout",
     "output_type": "stream",
     "text": [
      "Counter({0: 12500, 1: 12500})\n",
      "Counter({0: 12500, 1: 12500})\n"
     ]
    }
   ],
   "source": [
    "from collections import Counter\n",
    "print(Counter(train_labels))\n",
    "print(Counter(test_labels))"
   ]
  },
  {
   "cell_type": "code",
   "execution_count": 3,
   "metadata": {},
   "outputs": [],
   "source": [
    "nlp = spacy.load(\"en_core_web_sm\", disable=[\"parser\", \"ner\", \"tagger\", \"attribute_ruler\", \"lemmatizer\"])"
   ]
  },
  {
   "cell_type": "code",
   "execution_count": 4,
   "metadata": {},
   "outputs": [],
   "source": [
    "def preprocess_text(text):\n",
    "    # Tokenize and generate embeddings using spaCy\n",
    "    doc = nlp(text)\n",
    "    return np.mean([token.vector for token in doc if token.has_vector], axis=0)"
   ]
  },
  {
   "cell_type": "code",
   "execution_count": 5,
   "metadata": {},
   "outputs": [
    {
     "name": "stderr",
     "output_type": "stream",
     "text": [
      "100%|██████████| 25000/25000 [02:13<00:00, 187.87it/s]\n",
      "100%|██████████| 25000/25000 [02:09<00:00, 193.56it/s]\n"
     ]
    }
   ],
   "source": [
    "from tqdm import tqdm\n",
    "# Load IMDB dataset\n",
    "\n",
    "# Prepare the data\n",
    "def prepare_data(texts, labels):\n",
    "    embeddings, filtered_labels = [], []\n",
    "    for label, text in tqdm(zip(labels, texts), total=len(texts)):\n",
    "        embedding = preprocess_text(text)\n",
    "        if embedding is not None:  # Ignore empty embeddings\n",
    "            embeddings.append(embedding)\n",
    "            filtered_labels.append(label)\n",
    "    return np.array(embeddings), np.array(filtered_labels)\n",
    "\n",
    "# Preprocess the dataset\n",
    "train_embeddings, filtered_train_labels = prepare_data(train_texts, train_labels)\n",
    "test_embeddings, filtered_test_labels = prepare_data(test_texts, test_labels)"
   ]
  },
  {
   "cell_type": "code",
   "execution_count": 20,
   "metadata": {},
   "outputs": [
    {
     "data": {
      "text/plain": [
       "(25000, 96)"
      ]
     },
     "execution_count": 20,
     "metadata": {},
     "output_type": "execute_result"
    }
   ],
   "source": [
    "train_embeddings.shape"
   ]
  },
  {
   "cell_type": "code",
   "execution_count": 7,
   "metadata": {},
   "outputs": [],
   "source": [
    "class IMDBDataset(Dataset):\n",
    "    def __init__(self, embeddings, labels):\n",
    "        self.embeddings = torch.tensor(embeddings, dtype=torch.float32)\n",
    "        self.labels = torch.tensor(labels, dtype=torch.float32)\n",
    "\n",
    "    def __len__(self):\n",
    "        return len(self.labels)\n",
    "\n",
    "    def __getitem__(self, idx):\n",
    "        return self.embeddings[idx], self.labels[idx]\n",
    "\n",
    "# Create PyTorch datasets\n",
    "train_dataset = IMDBDataset(train_embeddings, train_labels)\n",
    "test_dataset = IMDBDataset(test_embeddings, test_labels)"
   ]
  },
  {
   "cell_type": "code",
   "execution_count": 8,
   "metadata": {},
   "outputs": [],
   "source": [
    "train_loader = DataLoader(train_dataset, batch_size=64, shuffle=True)\n",
    "test_loader = DataLoader(test_dataset, batch_size=64, shuffle=False)"
   ]
  },
  {
   "cell_type": "code",
   "execution_count": 13,
   "metadata": {},
   "outputs": [],
   "source": [
    "class SentimentClassifier(nn.Module):\n",
    "    def __init__(self, input_dim):\n",
    "        super(SentimentClassifier, self).__init__()\n",
    "        self.fc = nn.Sequential(\n",
    "            nn.Linear(input_dim, 1),\n",
    "            # nn.ReLU(),\n",
    "            # nn.Linear(64, 1),\n",
    "        )\n",
    "\n",
    "    def forward(self, x):\n",
    "        return self.fc(x).squeeze()"
   ]
  },
  {
   "cell_type": "code",
   "execution_count": 17,
   "metadata": {},
   "outputs": [
    {
     "name": "stdout",
     "output_type": "stream",
     "text": [
      "Epoch 1/200, Loss: 248.7231\n",
      "Epoch 2/200, Loss: 238.9577\n",
      "Epoch 3/200, Loss: 236.4872\n",
      "Epoch 4/200, Loss: 234.8184\n",
      "Epoch 5/200, Loss: 233.8379\n",
      "Epoch 6/200, Loss: 233.4131\n",
      "Epoch 7/200, Loss: 233.0950\n",
      "Epoch 8/200, Loss: 232.4963\n",
      "Epoch 9/200, Loss: 232.0905\n",
      "Epoch 10/200, Loss: 231.9511\n",
      "Epoch 11/200, Loss: 231.8016\n",
      "Epoch 12/200, Loss: 231.5619\n",
      "Epoch 13/200, Loss: 231.5297\n",
      "Epoch 14/200, Loss: 231.4198\n",
      "Epoch 15/200, Loss: 231.4087\n",
      "Epoch 16/200, Loss: 231.1677\n",
      "Epoch 17/200, Loss: 231.0181\n",
      "Epoch 18/200, Loss: 231.0658\n",
      "Epoch 19/200, Loss: 231.2656\n",
      "Epoch 20/200, Loss: 231.0002\n",
      "Epoch 21/200, Loss: 231.1326\n",
      "Epoch 22/200, Loss: 231.2521\n",
      "Epoch 23/200, Loss: 230.8736\n",
      "Epoch 24/200, Loss: 230.9421\n",
      "Epoch 25/200, Loss: 231.0163\n",
      "Epoch 26/200, Loss: 230.8631\n",
      "Epoch 27/200, Loss: 230.8808\n",
      "Epoch 28/200, Loss: 230.7498\n",
      "Epoch 29/200, Loss: 230.9677\n",
      "Epoch 30/200, Loss: 230.9727\n",
      "Epoch 31/200, Loss: 230.7077\n",
      "Epoch 32/200, Loss: 230.8145\n",
      "Epoch 33/200, Loss: 230.7710\n",
      "Epoch 34/200, Loss: 231.1054\n",
      "Epoch 35/200, Loss: 230.8229\n",
      "Epoch 36/200, Loss: 230.8843\n",
      "Epoch 37/200, Loss: 230.8092\n",
      "Epoch 38/200, Loss: 230.8703\n",
      "Epoch 39/200, Loss: 230.6598\n",
      "Epoch 40/200, Loss: 230.7950\n",
      "Epoch 41/200, Loss: 230.8773\n",
      "Epoch 42/200, Loss: 230.7270\n",
      "Epoch 43/200, Loss: 230.7433\n",
      "Epoch 44/200, Loss: 230.6817\n",
      "Epoch 45/200, Loss: 230.4166\n",
      "Epoch 46/200, Loss: 230.7474\n",
      "Epoch 47/200, Loss: 230.7025\n",
      "Epoch 48/200, Loss: 230.5652\n",
      "Epoch 49/200, Loss: 230.9005\n",
      "Epoch 50/200, Loss: 230.5952\n",
      "Epoch 51/200, Loss: 230.7608\n",
      "Epoch 52/200, Loss: 230.7181\n",
      "Epoch 53/200, Loss: 230.8238\n",
      "Epoch 54/200, Loss: 230.8499\n",
      "Epoch 55/200, Loss: 230.8432\n",
      "Epoch 56/200, Loss: 230.7506\n",
      "Epoch 57/200, Loss: 230.6452\n",
      "Epoch 58/200, Loss: 230.5994\n",
      "Epoch 59/200, Loss: 230.8579\n",
      "Epoch 60/200, Loss: 230.6629\n",
      "Epoch 61/200, Loss: 230.8470\n",
      "Epoch 62/200, Loss: 230.7009\n",
      "Epoch 63/200, Loss: 230.6191\n",
      "Epoch 64/200, Loss: 230.8963\n",
      "Epoch 65/200, Loss: 230.6959\n",
      "Epoch 66/200, Loss: 230.8133\n",
      "Epoch 67/200, Loss: 230.7252\n",
      "Epoch 68/200, Loss: 230.7259\n",
      "Epoch 69/200, Loss: 230.5220\n",
      "Epoch 70/200, Loss: 230.7060\n",
      "Epoch 71/200, Loss: 230.6569\n",
      "Epoch 72/200, Loss: 230.7446\n",
      "Epoch 73/200, Loss: 230.6009\n",
      "Epoch 74/200, Loss: 230.5095\n",
      "Epoch 75/200, Loss: 230.6458\n",
      "Epoch 76/200, Loss: 230.7563\n",
      "Epoch 77/200, Loss: 230.7900\n",
      "Epoch 78/200, Loss: 230.6100\n",
      "Epoch 79/200, Loss: 230.7135\n",
      "Epoch 80/200, Loss: 230.5482\n",
      "Epoch 81/200, Loss: 230.7051\n",
      "Epoch 82/200, Loss: 230.6304\n",
      "Epoch 83/200, Loss: 230.5611\n",
      "Epoch 84/200, Loss: 230.8893\n",
      "Epoch 85/200, Loss: 230.7788\n",
      "Epoch 86/200, Loss: 230.6353\n",
      "Epoch 87/200, Loss: 231.0656\n",
      "Epoch 88/200, Loss: 230.6725\n",
      "Epoch 89/200, Loss: 230.5641\n",
      "Epoch 90/200, Loss: 230.5675\n",
      "Epoch 91/200, Loss: 230.7188\n",
      "Epoch 92/200, Loss: 230.8278\n",
      "Epoch 93/200, Loss: 230.6518\n",
      "Epoch 94/200, Loss: 230.8448\n",
      "Epoch 95/200, Loss: 230.6892\n",
      "Epoch 96/200, Loss: 230.5928\n",
      "Epoch 97/200, Loss: 230.6312\n",
      "Epoch 98/200, Loss: 230.6042\n",
      "Epoch 99/200, Loss: 230.6242\n",
      "Epoch 100/200, Loss: 230.5507\n",
      "Epoch 101/200, Loss: 230.4408\n",
      "Epoch 102/200, Loss: 230.7089\n",
      "Epoch 103/200, Loss: 230.5525\n",
      "Epoch 104/200, Loss: 230.5764\n",
      "Epoch 105/200, Loss: 230.6153\n",
      "Epoch 106/200, Loss: 230.5227\n",
      "Epoch 107/200, Loss: 230.6418\n",
      "Epoch 108/200, Loss: 230.7355\n",
      "Epoch 109/200, Loss: 230.5602\n",
      "Epoch 110/200, Loss: 230.5916\n",
      "Epoch 111/200, Loss: 230.6618\n",
      "Epoch 112/200, Loss: 230.6754\n",
      "Epoch 113/200, Loss: 230.6006\n",
      "Epoch 114/200, Loss: 230.5842\n",
      "Epoch 115/200, Loss: 230.6914\n",
      "Epoch 116/200, Loss: 230.7444\n",
      "Epoch 117/200, Loss: 230.4998\n",
      "Epoch 118/200, Loss: 230.5149\n",
      "Epoch 119/200, Loss: 230.7630\n",
      "Epoch 120/200, Loss: 230.4995\n",
      "Epoch 121/200, Loss: 230.7034\n",
      "Epoch 122/200, Loss: 230.5649\n",
      "Epoch 123/200, Loss: 230.5754\n",
      "Epoch 124/200, Loss: 230.4591\n",
      "Epoch 125/200, Loss: 230.6526\n",
      "Epoch 126/200, Loss: 230.5297\n",
      "Epoch 127/200, Loss: 230.5385\n",
      "Epoch 128/200, Loss: 230.7398\n",
      "Epoch 129/200, Loss: 230.8210\n",
      "Epoch 130/200, Loss: 230.5727\n",
      "Epoch 131/200, Loss: 230.7956\n",
      "Epoch 132/200, Loss: 230.6370\n",
      "Epoch 133/200, Loss: 230.8609\n",
      "Epoch 134/200, Loss: 230.6162\n",
      "Epoch 135/200, Loss: 230.8889\n",
      "Epoch 136/200, Loss: 230.7199\n",
      "Epoch 137/200, Loss: 230.5423\n",
      "Epoch 138/200, Loss: 230.6994\n",
      "Epoch 139/200, Loss: 230.6052\n",
      "Epoch 140/200, Loss: 230.8590\n",
      "Epoch 141/200, Loss: 230.6672\n",
      "Epoch 142/200, Loss: 230.5542\n",
      "Epoch 143/200, Loss: 230.5147\n",
      "Epoch 144/200, Loss: 230.8070\n",
      "Epoch 145/200, Loss: 230.4576\n",
      "Epoch 146/200, Loss: 230.6362\n",
      "Epoch 147/200, Loss: 230.6679\n",
      "Epoch 148/200, Loss: 230.6100\n",
      "Epoch 149/200, Loss: 230.5880\n",
      "Epoch 150/200, Loss: 230.7221\n",
      "Epoch 151/200, Loss: 230.5980\n",
      "Epoch 152/200, Loss: 230.8779\n",
      "Epoch 153/200, Loss: 230.7366\n",
      "Epoch 154/200, Loss: 230.5372\n",
      "Epoch 155/200, Loss: 230.5602\n",
      "Epoch 156/200, Loss: 230.7288\n",
      "Epoch 157/200, Loss: 230.5341\n",
      "Epoch 158/200, Loss: 230.5050\n",
      "Epoch 159/200, Loss: 230.7350\n",
      "Epoch 160/200, Loss: 230.5162\n",
      "Epoch 161/200, Loss: 230.5320\n",
      "Epoch 162/200, Loss: 230.5792\n",
      "Epoch 163/200, Loss: 230.6392\n",
      "Epoch 164/200, Loss: 230.8414\n",
      "Epoch 165/200, Loss: 230.8100\n",
      "Epoch 166/200, Loss: 230.6260\n",
      "Epoch 167/200, Loss: 230.5073\n",
      "Epoch 168/200, Loss: 230.5677\n",
      "Epoch 169/200, Loss: 230.5885\n",
      "Epoch 170/200, Loss: 230.6932\n",
      "Epoch 171/200, Loss: 230.5454\n",
      "Epoch 172/200, Loss: 230.6074\n",
      "Epoch 173/200, Loss: 230.5325\n",
      "Epoch 174/200, Loss: 230.7743\n",
      "Epoch 175/200, Loss: 230.4637\n",
      "Epoch 176/200, Loss: 230.6459\n",
      "Epoch 177/200, Loss: 230.5730\n",
      "Epoch 178/200, Loss: 230.6343\n",
      "Epoch 179/200, Loss: 230.6867\n",
      "Epoch 180/200, Loss: 230.6728\n",
      "Epoch 181/200, Loss: 230.4500\n",
      "Epoch 182/200, Loss: 230.6571\n",
      "Epoch 183/200, Loss: 230.6085\n",
      "Epoch 184/200, Loss: 230.6382\n",
      "Epoch 185/200, Loss: 230.5764\n",
      "Epoch 186/200, Loss: 230.7160\n",
      "Epoch 187/200, Loss: 230.6582\n",
      "Epoch 188/200, Loss: 230.4644\n",
      "Epoch 189/200, Loss: 230.6072\n",
      "Epoch 190/200, Loss: 230.5913\n",
      "Epoch 191/200, Loss: 230.6454\n",
      "Epoch 192/200, Loss: 230.6388\n",
      "Epoch 193/200, Loss: 230.7817\n",
      "Epoch 194/200, Loss: 230.7390\n",
      "Epoch 195/200, Loss: 230.4346\n",
      "Epoch 196/200, Loss: 230.4922\n",
      "Epoch 197/200, Loss: 230.6221\n",
      "Epoch 198/200, Loss: 230.8001\n",
      "Epoch 199/200, Loss: 230.5923\n",
      "Epoch 200/200, Loss: 230.6415\n"
     ]
    }
   ],
   "source": [
    "# Initialize model, loss, and optimizer\n",
    "input_dim = train_embeddings.shape[1]  # Dimensionality of the pretrained embeddings\n",
    "model = SentimentClassifier(input_dim)\n",
    "criterion = nn.BCEWithLogitsLoss()\n",
    "optimizer = torch.optim.Adam(model.parameters(), lr=1e-2)\n",
    "\n",
    "# Training loop\n",
    "epochs = 200\n",
    "for epoch in range(epochs):\n",
    "    model.train()\n",
    "    total_loss = 0\n",
    "    for embeddings, labels in train_loader:\n",
    "        optimizer.zero_grad()\n",
    "        outputs = model(embeddings)\n",
    "        loss = criterion(outputs, labels)\n",
    "        loss.backward()\n",
    "        optimizer.step()\n",
    "        total_loss += loss.item()\n",
    "    print(f\"Epoch {epoch+1}/{epochs}, Loss: {total_loss:.4f}\")"
   ]
  },
  {
   "cell_type": "code",
   "execution_count": 19,
   "metadata": {},
   "outputs": [
    {
     "name": "stdout",
     "output_type": "stream",
     "text": [
      "Test Accuracy: 0.6672\n"
     ]
    }
   ],
   "source": [
    "from sklearn.metrics import accuracy_score\n",
    "model.eval()\n",
    "all_preds, all_labels = [], []\n",
    "\n",
    "with torch.no_grad():\n",
    "    for embeddings, labels in test_loader:\n",
    "        outputs = model(embeddings)\n",
    "        preds = (outputs > 0.5).float()\n",
    "        all_preds.extend(preds.numpy())\n",
    "        all_labels.extend(labels.numpy())\n",
    "\n",
    "accuracy = accuracy_score(all_labels, all_preds)\n",
    "print(f\"Test Accuracy: {accuracy:.4f}\")"
   ]
  },
  {
   "cell_type": "code",
   "execution_count": null,
   "metadata": {},
   "outputs": [],
   "source": []
  }
 ],
 "metadata": {
  "kernelspec": {
   "display_name": ".venv",
   "language": "python",
   "name": "python3"
  },
  "language_info": {
   "codemirror_mode": {
    "name": "ipython",
    "version": 3
   },
   "file_extension": ".py",
   "mimetype": "text/x-python",
   "name": "python",
   "nbconvert_exporter": "python",
   "pygments_lexer": "ipython3",
   "version": "3.12.5"
  }
 },
 "nbformat": 4,
 "nbformat_minor": 2
}
