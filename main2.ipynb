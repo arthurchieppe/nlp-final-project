{
 "cells": [
  {
   "cell_type": "code",
   "execution_count": 1,
   "metadata": {},
   "outputs": [
    {
     "name": "stderr",
     "output_type": "stream",
     "text": [
      "/Users/arthurchieppe/Documents/10o-semestre/nlp/final-project/.venv/lib/python3.12/site-packages/tqdm/auto.py:21: TqdmWarning: IProgress not found. Please update jupyter and ipywidgets. See https://ipywidgets.readthedocs.io/en/stable/user_install.html\n",
      "  from .autonotebook import tqdm as notebook_tqdm\n"
     ]
    }
   ],
   "source": [
    "import spacy\n",
    "import torch\n",
    "from torch import nn\n",
    "from torch.utils.data import DataLoader, Dataset\n",
    "from sklearn.model_selection import train_test_split\n",
    "import numpy as np\n",
    "from datasets import load_dataset\n",
    "\n",
    "# Load the IMDB dataset\n",
    "imdb = load_dataset(\"imdb\")\n",
    "train_texts = imdb[\"train\"][\"text\"]\n",
    "train_labels = imdb[\"train\"][\"label\"]\n",
    "test_texts = imdb[\"test\"][\"text\"]\n",
    "test_labels = imdb[\"test\"][\"label\"]"
   ]
  },
  {
   "cell_type": "code",
   "execution_count": 2,
   "metadata": {},
   "outputs": [
    {
     "name": "stdout",
     "output_type": "stream",
     "text": [
      "Counter({0: 12500, 1: 12500})\n",
      "Counter({0: 12500, 1: 12500})\n"
     ]
    }
   ],
   "source": [
    "from collections import Counter\n",
    "print(Counter(train_labels))\n",
    "print(Counter(test_labels))"
   ]
  },
  {
   "cell_type": "code",
   "execution_count": 3,
   "metadata": {},
   "outputs": [
    {
     "name": "stderr",
     "output_type": "stream",
     "text": [
      "/Users/arthurchieppe/Documents/10o-semestre/nlp/final-project/.venv/lib/python3.12/site-packages/transformers/utils/generic.py:441: FutureWarning: `torch.utils._pytree._register_pytree_node` is deprecated. Please use `torch.utils._pytree.register_pytree_node` instead.\n",
      "  _torch_pytree._register_pytree_node(\n",
      "/Users/arthurchieppe/Documents/10o-semestre/nlp/final-project/.venv/lib/python3.12/site-packages/transformers/utils/generic.py:309: FutureWarning: `torch.utils._pytree._register_pytree_node` is deprecated. Please use `torch.utils._pytree.register_pytree_node` instead.\n",
      "  _torch_pytree._register_pytree_node(\n"
     ]
    }
   ],
   "source": [
    "nlp = spacy.load(\"en_core_web_lg\", disable=[\"parser\", \"ner\", \"tagger\", \"attribute_ruler\", \"lemmatizer\"])"
   ]
  },
  {
   "cell_type": "code",
   "execution_count": 4,
   "metadata": {},
   "outputs": [],
   "source": [
    "def preprocess_text(text):\n",
    "    # Tokenize and generate embeddings using spaCy\n",
    "    doc = nlp(text)\n",
    "    return np.mean([token.vector for token in doc if token.has_vector], axis=0)"
   ]
  },
  {
   "cell_type": "code",
   "execution_count": 5,
   "metadata": {},
   "outputs": [
    {
     "name": "stderr",
     "output_type": "stream",
     "text": [
      "100%|██████████| 25000/25000 [02:40<00:00, 155.36it/s]\n",
      "100%|██████████| 25000/25000 [02:40<00:00, 155.75it/s]\n"
     ]
    }
   ],
   "source": [
    "from tqdm import tqdm\n",
    "# Load IMDB dataset\n",
    "\n",
    "# Prepare the data\n",
    "def prepare_data(texts, labels):\n",
    "    embeddings, filtered_labels = [], []\n",
    "    for label, text in tqdm(zip(labels, texts), total=len(texts)):\n",
    "        embedding = preprocess_text(text)\n",
    "        if embedding is not None:  # Ignore empty embeddings\n",
    "            embeddings.append(embedding)\n",
    "            filtered_labels.append(label)\n",
    "    return np.array(embeddings), np.array(filtered_labels)\n",
    "\n",
    "# Preprocess the dataset\n",
    "train_embeddings, filtered_train_labels = prepare_data(train_texts, train_labels)\n",
    "test_embeddings, filtered_test_labels = prepare_data(test_texts, test_labels)"
   ]
  },
  {
   "cell_type": "code",
   "execution_count": 6,
   "metadata": {},
   "outputs": [
    {
     "data": {
      "text/plain": [
       "(25000, 300)"
      ]
     },
     "execution_count": 6,
     "metadata": {},
     "output_type": "execute_result"
    }
   ],
   "source": [
    "train_embeddings.shape"
   ]
  },
  {
   "cell_type": "code",
   "execution_count": 7,
   "metadata": {},
   "outputs": [],
   "source": [
    "class IMDBDataset(Dataset):\n",
    "    def __init__(self, embeddings, labels):\n",
    "        self.embeddings = torch.tensor(embeddings, dtype=torch.float32)\n",
    "        self.labels = torch.tensor(labels, dtype=torch.float32)\n",
    "\n",
    "    def __len__(self):\n",
    "        return len(self.labels)\n",
    "\n",
    "    def __getitem__(self, idx):\n",
    "        return self.embeddings[idx], self.labels[idx]\n",
    "\n",
    "# Create PyTorch datasets\n",
    "train_dataset = IMDBDataset(train_embeddings, train_labels)\n",
    "test_dataset = IMDBDataset(test_embeddings, test_labels)"
   ]
  },
  {
   "cell_type": "code",
   "execution_count": 8,
   "metadata": {},
   "outputs": [],
   "source": [
    "train_loader = DataLoader(train_dataset, batch_size=64, shuffle=True)\n",
    "test_loader = DataLoader(test_dataset, batch_size=64, shuffle=False)"
   ]
  },
  {
   "cell_type": "code",
   "execution_count": 9,
   "metadata": {},
   "outputs": [],
   "source": [
    "class SentimentClassifier(nn.Module):\n",
    "    def __init__(self, input_dim):\n",
    "        super(SentimentClassifier, self).__init__()\n",
    "        self.fc = nn.Sequential(\n",
    "            nn.Linear(input_dim, 1),\n",
    "            # nn.ReLU(),\n",
    "            # nn.Linear(64, 1),\n",
    "        )\n",
    "\n",
    "    def forward(self, x):\n",
    "        return self.fc(x).squeeze()"
   ]
  },
  {
   "cell_type": "code",
   "execution_count": 11,
   "metadata": {},
   "outputs": [
    {
     "name": "stdout",
     "output_type": "stream",
     "text": [
      "Epoch 1/200, Loss: 254.4884\n",
      "Epoch 2/200, Loss: 230.9502\n",
      "Epoch 3/200, Loss: 215.5630\n",
      "Epoch 4/200, Loss: 204.5524\n",
      "Epoch 5/200, Loss: 196.1863\n",
      "Epoch 6/200, Loss: 189.5965\n",
      "Epoch 7/200, Loss: 184.3742\n",
      "Epoch 8/200, Loss: 179.8733\n",
      "Epoch 9/200, Loss: 176.2241\n",
      "Epoch 10/200, Loss: 173.0558\n",
      "Epoch 11/200, Loss: 170.3163\n",
      "Epoch 12/200, Loss: 167.9532\n",
      "Epoch 13/200, Loss: 165.8230\n",
      "Epoch 14/200, Loss: 163.9290\n",
      "Epoch 15/200, Loss: 162.2420\n",
      "Epoch 16/200, Loss: 160.6829\n",
      "Epoch 17/200, Loss: 159.4167\n",
      "Epoch 18/200, Loss: 158.0422\n",
      "Epoch 19/200, Loss: 156.8811\n",
      "Epoch 20/200, Loss: 155.8903\n",
      "Epoch 21/200, Loss: 154.8508\n",
      "Epoch 22/200, Loss: 154.0006\n",
      "Epoch 23/200, Loss: 153.1274\n",
      "Epoch 24/200, Loss: 152.3011\n",
      "Epoch 25/200, Loss: 151.5658\n",
      "Epoch 26/200, Loss: 150.9291\n",
      "Epoch 27/200, Loss: 150.2395\n",
      "Epoch 28/200, Loss: 149.5934\n",
      "Epoch 29/200, Loss: 149.0518\n",
      "Epoch 30/200, Loss: 148.5186\n",
      "Epoch 31/200, Loss: 148.0304\n",
      "Epoch 32/200, Loss: 147.4675\n",
      "Epoch 33/200, Loss: 147.0590\n",
      "Epoch 34/200, Loss: 146.5302\n",
      "Epoch 35/200, Loss: 146.1604\n",
      "Epoch 36/200, Loss: 145.6837\n",
      "Epoch 37/200, Loss: 145.4212\n",
      "Epoch 38/200, Loss: 144.9930\n",
      "Epoch 39/200, Loss: 144.5899\n",
      "Epoch 40/200, Loss: 144.3057\n",
      "Epoch 41/200, Loss: 143.9643\n",
      "Epoch 42/200, Loss: 143.6172\n",
      "Epoch 43/200, Loss: 143.3347\n",
      "Epoch 44/200, Loss: 143.1484\n",
      "Epoch 45/200, Loss: 142.7772\n",
      "Epoch 46/200, Loss: 142.6061\n",
      "Epoch 47/200, Loss: 142.3220\n",
      "Epoch 48/200, Loss: 142.1070\n",
      "Epoch 49/200, Loss: 141.7984\n",
      "Epoch 50/200, Loss: 141.6023\n",
      "Epoch 51/200, Loss: 141.3802\n",
      "Epoch 52/200, Loss: 141.1050\n",
      "Epoch 53/200, Loss: 140.9323\n",
      "Epoch 54/200, Loss: 140.6601\n",
      "Epoch 55/200, Loss: 140.5599\n",
      "Epoch 56/200, Loss: 140.2889\n",
      "Epoch 57/200, Loss: 140.2050\n",
      "Epoch 58/200, Loss: 139.9432\n",
      "Epoch 59/200, Loss: 139.8336\n",
      "Epoch 60/200, Loss: 139.6445\n",
      "Epoch 61/200, Loss: 139.4705\n",
      "Epoch 62/200, Loss: 139.3169\n",
      "Epoch 63/200, Loss: 139.2133\n",
      "Epoch 64/200, Loss: 139.0271\n",
      "Epoch 65/200, Loss: 138.7943\n",
      "Epoch 66/200, Loss: 138.6924\n",
      "Epoch 67/200, Loss: 138.5631\n",
      "Epoch 68/200, Loss: 138.5075\n",
      "Epoch 69/200, Loss: 138.2999\n",
      "Epoch 70/200, Loss: 138.1231\n",
      "Epoch 71/200, Loss: 138.0272\n",
      "Epoch 72/200, Loss: 137.8699\n",
      "Epoch 73/200, Loss: 137.7729\n",
      "Epoch 74/200, Loss: 137.6587\n",
      "Epoch 75/200, Loss: 137.5747\n",
      "Epoch 76/200, Loss: 137.3964\n",
      "Epoch 77/200, Loss: 137.3864\n",
      "Epoch 78/200, Loss: 137.2043\n",
      "Epoch 79/200, Loss: 137.1513\n",
      "Epoch 80/200, Loss: 137.0113\n",
      "Epoch 81/200, Loss: 136.8623\n",
      "Epoch 82/200, Loss: 136.7916\n",
      "Epoch 83/200, Loss: 136.7203\n",
      "Epoch 84/200, Loss: 136.5986\n",
      "Epoch 85/200, Loss: 136.6013\n",
      "Epoch 86/200, Loss: 136.4521\n",
      "Epoch 87/200, Loss: 136.3608\n",
      "Epoch 88/200, Loss: 136.3132\n",
      "Epoch 89/200, Loss: 136.0976\n",
      "Epoch 90/200, Loss: 136.1224\n",
      "Epoch 91/200, Loss: 135.9312\n",
      "Epoch 92/200, Loss: 135.9448\n",
      "Epoch 93/200, Loss: 135.8660\n",
      "Epoch 94/200, Loss: 135.8252\n",
      "Epoch 95/200, Loss: 135.6795\n",
      "Epoch 96/200, Loss: 135.6176\n",
      "Epoch 97/200, Loss: 135.5822\n",
      "Epoch 98/200, Loss: 135.4857\n",
      "Epoch 99/200, Loss: 135.3542\n",
      "Epoch 100/200, Loss: 135.2948\n",
      "Epoch 101/200, Loss: 135.2375\n",
      "Epoch 102/200, Loss: 135.1516\n",
      "Epoch 103/200, Loss: 135.0527\n",
      "Epoch 104/200, Loss: 134.9883\n",
      "Epoch 105/200, Loss: 134.9474\n",
      "Epoch 106/200, Loss: 134.8892\n",
      "Epoch 107/200, Loss: 134.8474\n",
      "Epoch 108/200, Loss: 134.7678\n",
      "Epoch 109/200, Loss: 134.6969\n",
      "Epoch 110/200, Loss: 134.6077\n",
      "Epoch 111/200, Loss: 134.5611\n",
      "Epoch 112/200, Loss: 134.5185\n",
      "Epoch 113/200, Loss: 134.4547\n",
      "Epoch 114/200, Loss: 134.4076\n",
      "Epoch 115/200, Loss: 134.3899\n",
      "Epoch 116/200, Loss: 134.3103\n",
      "Epoch 117/200, Loss: 134.3056\n",
      "Epoch 118/200, Loss: 134.1773\n",
      "Epoch 119/200, Loss: 134.1220\n",
      "Epoch 120/200, Loss: 134.0879\n",
      "Epoch 121/200, Loss: 134.0740\n",
      "Epoch 122/200, Loss: 134.0447\n",
      "Epoch 123/200, Loss: 133.8871\n",
      "Epoch 124/200, Loss: 133.8412\n",
      "Epoch 125/200, Loss: 133.8399\n",
      "Epoch 126/200, Loss: 133.7360\n",
      "Epoch 127/200, Loss: 133.8065\n",
      "Epoch 128/200, Loss: 133.6979\n",
      "Epoch 129/200, Loss: 133.6181\n",
      "Epoch 130/200, Loss: 133.5853\n",
      "Epoch 131/200, Loss: 133.5530\n",
      "Epoch 132/200, Loss: 133.6036\n",
      "Epoch 133/200, Loss: 133.5279\n",
      "Epoch 134/200, Loss: 133.3866\n",
      "Epoch 135/200, Loss: 133.4100\n",
      "Epoch 136/200, Loss: 133.3680\n",
      "Epoch 137/200, Loss: 133.3042\n",
      "Epoch 138/200, Loss: 133.2961\n",
      "Epoch 139/200, Loss: 133.3534\n",
      "Epoch 140/200, Loss: 133.0769\n",
      "Epoch 141/200, Loss: 133.1069\n",
      "Epoch 142/200, Loss: 133.1550\n",
      "Epoch 143/200, Loss: 133.0241\n",
      "Epoch 144/200, Loss: 133.0090\n",
      "Epoch 145/200, Loss: 133.0199\n",
      "Epoch 146/200, Loss: 132.8982\n",
      "Epoch 147/200, Loss: 132.9131\n",
      "Epoch 148/200, Loss: 132.8810\n",
      "Epoch 149/200, Loss: 132.8689\n",
      "Epoch 150/200, Loss: 132.7628\n",
      "Epoch 151/200, Loss: 132.8240\n",
      "Epoch 152/200, Loss: 132.7614\n",
      "Epoch 153/200, Loss: 132.6970\n",
      "Epoch 154/200, Loss: 132.6454\n",
      "Epoch 155/200, Loss: 132.6472\n",
      "Epoch 156/200, Loss: 132.5498\n",
      "Epoch 157/200, Loss: 132.5623\n",
      "Epoch 158/200, Loss: 132.5664\n",
      "Epoch 159/200, Loss: 132.4803\n",
      "Epoch 160/200, Loss: 132.4718\n",
      "Epoch 161/200, Loss: 132.3769\n",
      "Epoch 162/200, Loss: 132.3792\n",
      "Epoch 163/200, Loss: 132.3456\n",
      "Epoch 164/200, Loss: 132.2762\n",
      "Epoch 165/200, Loss: 132.3139\n",
      "Epoch 166/200, Loss: 132.2519\n",
      "Epoch 167/200, Loss: 132.2693\n",
      "Epoch 168/200, Loss: 132.2059\n",
      "Epoch 169/200, Loss: 132.1168\n",
      "Epoch 170/200, Loss: 132.1858\n",
      "Epoch 171/200, Loss: 132.0798\n",
      "Epoch 172/200, Loss: 132.0708\n",
      "Epoch 173/200, Loss: 132.0773\n",
      "Epoch 174/200, Loss: 132.0755\n",
      "Epoch 175/200, Loss: 132.0429\n",
      "Epoch 176/200, Loss: 131.9671\n",
      "Epoch 177/200, Loss: 132.0685\n",
      "Epoch 178/200, Loss: 131.9959\n",
      "Epoch 179/200, Loss: 131.9357\n",
      "Epoch 180/200, Loss: 131.9062\n",
      "Epoch 181/200, Loss: 131.8795\n",
      "Epoch 182/200, Loss: 131.8049\n",
      "Epoch 183/200, Loss: 131.8387\n",
      "Epoch 184/200, Loss: 131.7715\n",
      "Epoch 185/200, Loss: 131.7524\n",
      "Epoch 186/200, Loss: 131.8314\n",
      "Epoch 187/200, Loss: 131.7434\n",
      "Epoch 188/200, Loss: 131.6936\n",
      "Epoch 189/200, Loss: 131.6763\n",
      "Epoch 190/200, Loss: 131.5934\n",
      "Epoch 191/200, Loss: 131.6264\n",
      "Epoch 192/200, Loss: 131.6106\n",
      "Epoch 193/200, Loss: 131.4998\n",
      "Epoch 194/200, Loss: 131.5487\n",
      "Epoch 195/200, Loss: 131.4594\n",
      "Epoch 196/200, Loss: 131.5068\n",
      "Epoch 197/200, Loss: 131.4908\n",
      "Epoch 198/200, Loss: 131.5286\n",
      "Epoch 199/200, Loss: 131.4809\n",
      "Epoch 200/200, Loss: 131.4254\n"
     ]
    }
   ],
   "source": [
    "# Initialize model, loss, and optimizer\n",
    "input_dim = train_embeddings.shape[1]  # Dimensionality of the pretrained embeddings\n",
    "model = SentimentClassifier(input_dim)\n",
    "criterion = nn.BCEWithLogitsLoss()\n",
    "optimizer = torch.optim.Adam(model.parameters(), lr=1e-3)\n",
    "\n",
    "# Training loop\n",
    "epochs = 200\n",
    "for epoch in range(epochs):\n",
    "    model.train()\n",
    "    total_loss = 0\n",
    "    for embeddings, labels in train_loader:\n",
    "        optimizer.zero_grad()\n",
    "        outputs = model(embeddings)\n",
    "        loss = criterion(outputs, labels)\n",
    "        loss.backward()\n",
    "        optimizer.step()\n",
    "        total_loss += loss.item()\n",
    "    print(f\"Epoch {epoch+1}/{epochs}, Loss: {total_loss:.4f}\")"
   ]
  },
  {
   "cell_type": "code",
   "execution_count": 12,
   "metadata": {},
   "outputs": [
    {
     "name": "stdout",
     "output_type": "stream",
     "text": [
      "Test Accuracy: 0.8433\n"
     ]
    }
   ],
   "source": [
    "from sklearn.metrics import accuracy_score\n",
    "model.eval()\n",
    "all_preds, all_labels = [], []\n",
    "\n",
    "with torch.no_grad():\n",
    "    for embeddings, labels in test_loader:\n",
    "        outputs = model(embeddings)\n",
    "        preds = (outputs > 0.5).float()\n",
    "        all_preds.extend(preds.numpy())\n",
    "        all_labels.extend(labels.numpy())\n",
    "\n",
    "accuracy = accuracy_score(all_labels, all_preds)\n",
    "print(f\"Test Accuracy: {accuracy:.4f}\")"
   ]
  },
  {
   "cell_type": "markdown",
   "metadata": {},
   "source": [
    "# Repetir TRAINING PARA MODELOS SMALL, MEDIUM LARGE E COMPARAR, PARA TORNAR DISCUSSAO INTERESSANTE.\n",
    "SM: 0.66\n",
    "MD: 0.77\n",
    "LG: 0.84"
   ]
  },
  {
   "cell_type": "code",
   "execution_count": null,
   "metadata": {},
   "outputs": [],
   "source": []
  }
 ],
 "metadata": {
  "kernelspec": {
   "display_name": ".venv",
   "language": "python",
   "name": "python3"
  },
  "language_info": {
   "codemirror_mode": {
    "name": "ipython",
    "version": 3
   },
   "file_extension": ".py",
   "mimetype": "text/x-python",
   "name": "python",
   "nbconvert_exporter": "python",
   "pygments_lexer": "ipython3",
   "version": "3.12.5"
  }
 },
 "nbformat": 4,
 "nbformat_minor": 2
}
