{
 "cells": [
  {
   "cell_type": "code",
   "execution_count": 1,
   "metadata": {},
   "outputs": [
    {
     "name": "stderr",
     "output_type": "stream",
     "text": [
      "/Users/arthurchieppe/Documents/10o-semestre/nlp/final-project/.venv/lib/python3.12/site-packages/tqdm/auto.py:21: TqdmWarning: IProgress not found. Please update jupyter and ipywidgets. See https://ipywidgets.readthedocs.io/en/stable/user_install.html\n",
      "  from .autonotebook import tqdm as notebook_tqdm\n"
     ]
    }
   ],
   "source": [
    "import spacy\n",
    "import torch\n",
    "from torch import nn\n",
    "from torch.utils.data import DataLoader, Dataset\n",
    "from sklearn.model_selection import train_test_split\n",
    "import numpy as np\n",
    "from datasets import load_dataset\n",
    "\n",
    "# Load the IMDB dataset\n",
    "imdb = load_dataset(\"imdb\")\n",
    "texts = imdb[\"train\"][\"text\"] + imdb[\"test\"][\"text\"]\n",
    "labels = imdb[\"train\"][\"label\"] + imdb[\"test\"][\"label\"]\n",
    "# train_texts = imdb[\"train\"][\"text\"]\n",
    "# train_labels = imdb[\"train\"][\"label\"]\n",
    "# test_texts = imdb[\"test\"][\"text\"]\n",
    "# test_labels = imdb[\"test\"][\"label\"]\n",
    "train_texts, test_texts, train_labels, test_labels = train_test_split(\n",
    "    texts, labels, test_size=0.3, random_state=42\n",
    ")"
   ]
  },
  {
   "cell_type": "code",
   "execution_count": 2,
   "metadata": {},
   "outputs": [
    {
     "name": "stdout",
     "output_type": "stream",
     "text": [
      "Counter({1: 17557, 0: 17443})\n",
      "Counter({0: 7557, 1: 7443})\n"
     ]
    }
   ],
   "source": [
    "from collections import Counter\n",
    "print(Counter(train_labels))\n",
    "print(Counter(test_labels))"
   ]
  },
  {
   "cell_type": "code",
   "execution_count": 3,
   "metadata": {},
   "outputs": [
    {
     "name": "stderr",
     "output_type": "stream",
     "text": [
      "/Users/arthurchieppe/Documents/10o-semestre/nlp/final-project/.venv/lib/python3.12/site-packages/transformers/utils/generic.py:441: FutureWarning: `torch.utils._pytree._register_pytree_node` is deprecated. Please use `torch.utils._pytree.register_pytree_node` instead.\n",
      "  _torch_pytree._register_pytree_node(\n",
      "/Users/arthurchieppe/Documents/10o-semestre/nlp/final-project/.venv/lib/python3.12/site-packages/transformers/utils/generic.py:309: FutureWarning: `torch.utils._pytree._register_pytree_node` is deprecated. Please use `torch.utils._pytree.register_pytree_node` instead.\n",
      "  _torch_pytree._register_pytree_node(\n"
     ]
    }
   ],
   "source": [
    "nlp_sm = spacy.load(\"en_core_web_sm\", disable=[\"parser\", \"ner\", \"tagger\", \"attribute_ruler\", \"lemmatizer\"])\n",
    "nlp_md = spacy.load(\"en_core_web_md\", disable=[\"parser\", \"ner\", \"tagger\", \"attribute_ruler\", \"lemmatizer\"])\n",
    "nlp_lg = spacy.load(\"en_core_web_lg\", disable=[\"parser\", \"ner\", \"tagger\", \"attribute_ruler\", \"lemmatizer\"])"
   ]
  },
  {
   "cell_type": "code",
   "execution_count": 4,
   "metadata": {},
   "outputs": [],
   "source": [
    "def preprocess_text(nlp, text):\n",
    "    # Tokenize and generate embeddings using spaCy\n",
    "    doc = nlp(text)\n",
    "    return np.mean([token.vector for token in doc if token.has_vector], axis=0)"
   ]
  },
  {
   "cell_type": "code",
   "execution_count": 5,
   "metadata": {},
   "outputs": [],
   "source": [
    "from tqdm import tqdm\n",
    "\n",
    "# Prepare the data\n",
    "def prepare_data(texts, labels, nlp):\n",
    "    embeddings, filtered_labels = [], []\n",
    "    for label, text in tqdm(zip(labels, texts), total=len(texts)):\n",
    "        embedding = preprocess_text(nlp, text)\n",
    "        if embedding is not None:  # Ignore empty embeddings\n",
    "            embeddings.append(embedding)\n",
    "            filtered_labels.append(label)\n",
    "    return np.array(embeddings), np.array(filtered_labels)"
   ]
  },
  {
   "cell_type": "code",
   "execution_count": 6,
   "metadata": {},
   "outputs": [],
   "source": [
    "class IMDBDataset(Dataset):\n",
    "    def __init__(self, embeddings, labels):\n",
    "        self.embeddings = torch.tensor(embeddings, dtype=torch.float32)\n",
    "        self.labels = torch.tensor(labels, dtype=torch.float32)\n",
    "\n",
    "    def __len__(self):\n",
    "        return len(self.labels)\n",
    "\n",
    "    def __getitem__(self, idx):\n",
    "        return self.embeddings[idx], self.labels[idx]"
   ]
  },
  {
   "cell_type": "code",
   "execution_count": 7,
   "metadata": {},
   "outputs": [],
   "source": [
    "class SentimentClassifier(nn.Module):\n",
    "    def __init__(self, input_dim):\n",
    "        super(SentimentClassifier, self).__init__()\n",
    "        self.fc = nn.Sequential(\n",
    "            nn.Linear(input_dim, 1),\n",
    "            # nn.ReLU(),\n",
    "            # nn.Linear(64, 1),\n",
    "        )\n",
    "\n",
    "    def forward(self, x):\n",
    "        return self.fc(x).squeeze()"
   ]
  },
  {
   "cell_type": "code",
   "execution_count": 8,
   "metadata": {},
   "outputs": [],
   "source": [
    "def train_and_get_model(train_loader, train_embeddings, epochs = 200):\n",
    "        # Initialize model, loss, and optimizer\n",
    "    input_dim = train_embeddings.shape[1]  # Dimensionality of the pretrained embeddings\n",
    "    model = SentimentClassifier(input_dim)\n",
    "    criterion = nn.BCEWithLogitsLoss()\n",
    "    optimizer = torch.optim.Adam(model.parameters(), lr=1e-3)\n",
    "\n",
    "    # Training loop\n",
    "    epochs = 200\n",
    "    for epoch in range(epochs):\n",
    "        model.train()\n",
    "        total_loss = 0\n",
    "        for embeddings, labels in train_loader:\n",
    "            optimizer.zero_grad()\n",
    "            outputs = model(embeddings)\n",
    "            loss = criterion(outputs, labels)\n",
    "            loss.backward()\n",
    "            optimizer.step()\n",
    "            total_loss += loss.item()\n",
    "        print(f\"Epoch {epoch+1}/{epochs}, Loss: {total_loss:.4f}\")\n",
    "\n",
    "    return model"
   ]
  },
  {
   "cell_type": "code",
   "execution_count": 9,
   "metadata": {},
   "outputs": [],
   "source": [
    "from sklearn.metrics import accuracy_score\n",
    "def evaluate_model(model, test_loader):\n",
    "    model.eval()\n",
    "    all_preds, all_labels = [], []\n",
    "\n",
    "    with torch.no_grad():\n",
    "        for embeddings, labels in test_loader:\n",
    "            outputs = model(embeddings)\n",
    "            preds = (outputs > 0.5).float()\n",
    "            all_preds.extend(preds.numpy())\n",
    "            all_labels.extend(labels.numpy())\n",
    "\n",
    "    accuracy = accuracy_score(all_labels, all_preds)\n",
    "    print(f\"Test Accuracy: {accuracy:.4f}\")"
   ]
  },
  {
   "cell_type": "markdown",
   "metadata": {},
   "source": [
    "# Small model"
   ]
  },
  {
   "cell_type": "code",
   "execution_count": 10,
   "metadata": {},
   "outputs": [
    {
     "name": "stderr",
     "output_type": "stream",
     "text": [
      "100%|██████████| 35000/35000 [02:52<00:00, 202.83it/s]\n",
      "100%|██████████| 15000/15000 [01:14<00:00, 202.46it/s]\n"
     ]
    }
   ],
   "source": [
    "# Preprocess the dataset\n",
    "train_embeddings_sm, filtered_train_labels_sm = prepare_data(train_texts, train_labels, nlp_sm)\n",
    "test_embeddings_sm, filtered_test_labels_sm = prepare_data(test_texts, test_labels, nlp_sm)"
   ]
  },
  {
   "cell_type": "code",
   "execution_count": 11,
   "metadata": {},
   "outputs": [
    {
     "name": "stdout",
     "output_type": "stream",
     "text": [
      "Embeddings dimension:  96\n"
     ]
    }
   ],
   "source": [
    "print(\"Embeddings dimension: \", train_embeddings_sm.shape[1])"
   ]
  },
  {
   "cell_type": "code",
   "execution_count": 12,
   "metadata": {},
   "outputs": [],
   "source": [
    "# Create PyTorch datasets\n",
    "train_dataset_sm = IMDBDataset(train_embeddings_sm, filtered_train_labels_sm)\n",
    "test_dataset_sm = IMDBDataset(test_embeddings_sm, filtered_test_labels_sm)"
   ]
  },
  {
   "cell_type": "code",
   "execution_count": 13,
   "metadata": {},
   "outputs": [],
   "source": [
    "train_loader_sm = DataLoader(train_dataset_sm, batch_size=64, shuffle=True)\n",
    "test_loader_sm = DataLoader(test_dataset_sm, batch_size=64, shuffle=False)"
   ]
  },
  {
   "cell_type": "code",
   "execution_count": 14,
   "metadata": {},
   "outputs": [
    {
     "name": "stdout",
     "output_type": "stream",
     "text": [
      "Epoch 1/200, Loss: 368.8025\n",
      "Epoch 2/200, Loss: 356.8560\n",
      "Epoch 3/200, Loss: 350.3138\n",
      "Epoch 4/200, Loss: 346.0489\n",
      "Epoch 5/200, Loss: 343.0567\n",
      "Epoch 6/200, Loss: 340.8306\n",
      "Epoch 7/200, Loss: 339.1372\n",
      "Epoch 8/200, Loss: 337.7704\n",
      "Epoch 9/200, Loss: 336.6265\n",
      "Epoch 10/200, Loss: 335.6276\n",
      "Epoch 11/200, Loss: 334.8148\n",
      "Epoch 12/200, Loss: 334.0869\n",
      "Epoch 13/200, Loss: 333.4556\n",
      "Epoch 14/200, Loss: 332.8865\n",
      "Epoch 15/200, Loss: 332.3653\n",
      "Epoch 16/200, Loss: 331.8805\n",
      "Epoch 17/200, Loss: 331.4379\n",
      "Epoch 18/200, Loss: 331.0940\n",
      "Epoch 19/200, Loss: 330.6556\n",
      "Epoch 20/200, Loss: 330.3690\n",
      "Epoch 21/200, Loss: 330.0400\n",
      "Epoch 22/200, Loss: 329.7715\n",
      "Epoch 23/200, Loss: 329.4799\n",
      "Epoch 24/200, Loss: 329.2130\n",
      "Epoch 25/200, Loss: 329.0184\n",
      "Epoch 26/200, Loss: 328.7784\n",
      "Epoch 27/200, Loss: 328.5295\n",
      "Epoch 28/200, Loss: 328.3432\n",
      "Epoch 29/200, Loss: 328.1567\n",
      "Epoch 30/200, Loss: 327.9228\n",
      "Epoch 31/200, Loss: 327.8272\n",
      "Epoch 32/200, Loss: 327.6497\n",
      "Epoch 33/200, Loss: 327.5478\n",
      "Epoch 34/200, Loss: 327.3922\n",
      "Epoch 35/200, Loss: 327.2305\n",
      "Epoch 36/200, Loss: 327.0693\n",
      "Epoch 37/200, Loss: 326.9567\n",
      "Epoch 38/200, Loss: 326.9241\n",
      "Epoch 39/200, Loss: 326.7779\n",
      "Epoch 40/200, Loss: 326.6724\n",
      "Epoch 41/200, Loss: 326.5692\n",
      "Epoch 42/200, Loss: 326.4059\n",
      "Epoch 43/200, Loss: 326.3922\n",
      "Epoch 44/200, Loss: 326.2768\n",
      "Epoch 45/200, Loss: 326.1641\n",
      "Epoch 46/200, Loss: 326.0979\n",
      "Epoch 47/200, Loss: 326.0453\n",
      "Epoch 48/200, Loss: 325.9119\n",
      "Epoch 49/200, Loss: 325.8676\n",
      "Epoch 50/200, Loss: 325.7926\n",
      "Epoch 51/200, Loss: 325.7453\n",
      "Epoch 52/200, Loss: 325.6442\n",
      "Epoch 53/200, Loss: 325.5930\n",
      "Epoch 54/200, Loss: 325.5017\n",
      "Epoch 55/200, Loss: 325.4766\n",
      "Epoch 56/200, Loss: 325.4009\n",
      "Epoch 57/200, Loss: 325.3348\n",
      "Epoch 58/200, Loss: 325.2583\n",
      "Epoch 59/200, Loss: 325.2748\n",
      "Epoch 60/200, Loss: 325.1484\n",
      "Epoch 61/200, Loss: 325.1513\n",
      "Epoch 62/200, Loss: 325.1192\n",
      "Epoch 63/200, Loss: 325.0176\n",
      "Epoch 64/200, Loss: 324.9742\n",
      "Epoch 65/200, Loss: 324.9673\n",
      "Epoch 66/200, Loss: 324.8779\n",
      "Epoch 67/200, Loss: 324.8661\n",
      "Epoch 68/200, Loss: 324.7900\n",
      "Epoch 69/200, Loss: 324.8083\n",
      "Epoch 70/200, Loss: 324.7588\n",
      "Epoch 71/200, Loss: 324.7313\n",
      "Epoch 72/200, Loss: 324.6803\n",
      "Epoch 73/200, Loss: 324.6554\n",
      "Epoch 74/200, Loss: 324.6081\n",
      "Epoch 75/200, Loss: 324.5997\n",
      "Epoch 76/200, Loss: 324.6052\n",
      "Epoch 77/200, Loss: 324.5013\n",
      "Epoch 78/200, Loss: 324.4938\n",
      "Epoch 79/200, Loss: 324.4961\n",
      "Epoch 80/200, Loss: 324.4429\n",
      "Epoch 81/200, Loss: 324.4302\n",
      "Epoch 82/200, Loss: 324.3826\n",
      "Epoch 83/200, Loss: 324.3610\n",
      "Epoch 84/200, Loss: 324.3099\n",
      "Epoch 85/200, Loss: 324.3357\n",
      "Epoch 86/200, Loss: 324.3139\n",
      "Epoch 87/200, Loss: 324.2339\n",
      "Epoch 88/200, Loss: 324.2494\n",
      "Epoch 89/200, Loss: 324.2265\n",
      "Epoch 90/200, Loss: 324.1679\n",
      "Epoch 91/200, Loss: 324.1939\n",
      "Epoch 92/200, Loss: 324.1905\n",
      "Epoch 93/200, Loss: 324.1489\n",
      "Epoch 94/200, Loss: 324.1052\n",
      "Epoch 95/200, Loss: 324.0642\n",
      "Epoch 96/200, Loss: 324.0937\n",
      "Epoch 97/200, Loss: 324.0735\n",
      "Epoch 98/200, Loss: 324.0803\n",
      "Epoch 99/200, Loss: 324.0094\n",
      "Epoch 100/200, Loss: 324.0195\n",
      "Epoch 101/200, Loss: 324.0032\n",
      "Epoch 102/200, Loss: 324.0258\n",
      "Epoch 103/200, Loss: 323.9996\n",
      "Epoch 104/200, Loss: 323.9526\n",
      "Epoch 105/200, Loss: 323.9363\n",
      "Epoch 106/200, Loss: 323.9105\n",
      "Epoch 107/200, Loss: 323.9491\n",
      "Epoch 108/200, Loss: 323.8777\n",
      "Epoch 109/200, Loss: 323.8857\n",
      "Epoch 110/200, Loss: 323.8394\n",
      "Epoch 111/200, Loss: 323.8652\n",
      "Epoch 112/200, Loss: 323.8366\n",
      "Epoch 113/200, Loss: 323.8117\n",
      "Epoch 114/200, Loss: 323.8127\n",
      "Epoch 115/200, Loss: 323.8196\n",
      "Epoch 116/200, Loss: 323.7957\n",
      "Epoch 117/200, Loss: 323.8050\n",
      "Epoch 118/200, Loss: 323.8079\n",
      "Epoch 119/200, Loss: 323.7647\n",
      "Epoch 120/200, Loss: 323.7188\n",
      "Epoch 121/200, Loss: 323.7350\n",
      "Epoch 122/200, Loss: 323.7230\n",
      "Epoch 123/200, Loss: 323.7240\n",
      "Epoch 124/200, Loss: 323.7231\n",
      "Epoch 125/200, Loss: 323.6941\n",
      "Epoch 126/200, Loss: 323.6914\n",
      "Epoch 127/200, Loss: 323.7365\n",
      "Epoch 128/200, Loss: 323.6774\n",
      "Epoch 129/200, Loss: 323.6699\n",
      "Epoch 130/200, Loss: 323.6472\n",
      "Epoch 131/200, Loss: 323.5984\n",
      "Epoch 132/200, Loss: 323.6441\n",
      "Epoch 133/200, Loss: 323.6037\n",
      "Epoch 134/200, Loss: 323.6137\n",
      "Epoch 135/200, Loss: 323.6176\n",
      "Epoch 136/200, Loss: 323.5821\n",
      "Epoch 137/200, Loss: 323.5623\n",
      "Epoch 138/200, Loss: 323.5725\n",
      "Epoch 139/200, Loss: 323.5788\n",
      "Epoch 140/200, Loss: 323.5542\n",
      "Epoch 141/200, Loss: 323.5834\n",
      "Epoch 142/200, Loss: 323.5925\n",
      "Epoch 143/200, Loss: 323.5352\n",
      "Epoch 144/200, Loss: 323.5114\n",
      "Epoch 145/200, Loss: 323.5625\n",
      "Epoch 146/200, Loss: 323.5326\n",
      "Epoch 147/200, Loss: 323.5577\n",
      "Epoch 148/200, Loss: 323.5216\n",
      "Epoch 149/200, Loss: 323.5211\n",
      "Epoch 150/200, Loss: 323.5358\n",
      "Epoch 151/200, Loss: 323.5059\n",
      "Epoch 152/200, Loss: 323.5302\n",
      "Epoch 153/200, Loss: 323.4525\n",
      "Epoch 154/200, Loss: 323.4911\n",
      "Epoch 155/200, Loss: 323.5492\n",
      "Epoch 156/200, Loss: 323.4873\n",
      "Epoch 157/200, Loss: 323.4594\n",
      "Epoch 158/200, Loss: 323.4614\n",
      "Epoch 159/200, Loss: 323.4658\n",
      "Epoch 160/200, Loss: 323.4748\n",
      "Epoch 161/200, Loss: 323.4549\n",
      "Epoch 162/200, Loss: 323.4713\n",
      "Epoch 163/200, Loss: 323.4413\n",
      "Epoch 164/200, Loss: 323.4266\n",
      "Epoch 165/200, Loss: 323.3917\n",
      "Epoch 166/200, Loss: 323.4350\n",
      "Epoch 167/200, Loss: 323.4584\n",
      "Epoch 168/200, Loss: 323.3843\n",
      "Epoch 169/200, Loss: 323.4292\n",
      "Epoch 170/200, Loss: 323.4102\n",
      "Epoch 171/200, Loss: 323.3946\n",
      "Epoch 172/200, Loss: 323.3951\n",
      "Epoch 173/200, Loss: 323.3849\n",
      "Epoch 174/200, Loss: 323.4214\n",
      "Epoch 175/200, Loss: 323.3946\n",
      "Epoch 176/200, Loss: 323.3820\n",
      "Epoch 177/200, Loss: 323.3906\n",
      "Epoch 178/200, Loss: 323.3988\n",
      "Epoch 179/200, Loss: 323.3652\n",
      "Epoch 180/200, Loss: 323.3573\n",
      "Epoch 181/200, Loss: 323.3833\n",
      "Epoch 182/200, Loss: 323.3804\n",
      "Epoch 183/200, Loss: 323.3884\n",
      "Epoch 184/200, Loss: 323.3263\n",
      "Epoch 185/200, Loss: 323.3063\n",
      "Epoch 186/200, Loss: 323.3349\n",
      "Epoch 187/200, Loss: 323.2978\n",
      "Epoch 188/200, Loss: 323.3476\n",
      "Epoch 189/200, Loss: 323.3364\n",
      "Epoch 190/200, Loss: 323.3491\n",
      "Epoch 191/200, Loss: 323.3427\n",
      "Epoch 192/200, Loss: 323.3178\n",
      "Epoch 193/200, Loss: 323.3306\n",
      "Epoch 194/200, Loss: 323.3404\n",
      "Epoch 195/200, Loss: 323.3359\n",
      "Epoch 196/200, Loss: 323.2840\n",
      "Epoch 197/200, Loss: 323.2964\n",
      "Epoch 198/200, Loss: 323.2865\n",
      "Epoch 199/200, Loss: 323.2364\n",
      "Epoch 200/200, Loss: 323.2592\n"
     ]
    }
   ],
   "source": [
    "model = train_and_get_model(train_loader_sm, train_embeddings_sm)"
   ]
  },
  {
   "cell_type": "code",
   "execution_count": 15,
   "metadata": {},
   "outputs": [
    {
     "name": "stdout",
     "output_type": "stream",
     "text": [
      "Test Accuracy: 0.6679\n"
     ]
    }
   ],
   "source": [
    "evaluate_model(model, test_loader_sm)"
   ]
  },
  {
   "cell_type": "markdown",
   "metadata": {},
   "source": [
    "# Medium"
   ]
  },
  {
   "cell_type": "markdown",
   "metadata": {},
   "source": [
    "# Repetir TRAINING PARA MODELOS SMALL, MEDIUM LARGE E COMPARAR, PARA TORNAR DISCUSSAO INTERESSANTE.\n",
    "SM: 0.66\n",
    "MD: 0.77\n",
    "LG: 0.84"
   ]
  },
  {
   "cell_type": "code",
   "execution_count": 16,
   "metadata": {},
   "outputs": [
    {
     "name": "stderr",
     "output_type": "stream",
     "text": [
      "100%|██████████| 35000/35000 [03:33<00:00, 163.95it/s]\n",
      "100%|██████████| 15000/15000 [01:31<00:00, 164.62it/s]\n"
     ]
    }
   ],
   "source": [
    "# Preprocess the dataset\n",
    "train_embeddings_md, filtered_train_labels_md = prepare_data(train_texts, train_labels, nlp_md)\n",
    "test_embeddings_md, filtered_test_labels_md = prepare_data(test_texts, test_labels, nlp_md)"
   ]
  },
  {
   "cell_type": "code",
   "execution_count": 17,
   "metadata": {},
   "outputs": [
    {
     "name": "stdout",
     "output_type": "stream",
     "text": [
      "Embeddings dimension:  300\n"
     ]
    }
   ],
   "source": [
    "print(\"Embeddings dimension: \", train_embeddings_md.shape[1])"
   ]
  },
  {
   "cell_type": "code",
   "execution_count": 18,
   "metadata": {},
   "outputs": [],
   "source": [
    "# Create PyTorch datasets\n",
    "train_dataset_md = IMDBDataset(train_embeddings_md, filtered_train_labels_md)\n",
    "test_dataset_md = IMDBDataset(test_embeddings_md, filtered_test_labels_md)"
   ]
  },
  {
   "cell_type": "code",
   "execution_count": 19,
   "metadata": {},
   "outputs": [],
   "source": [
    "train_loader_md = DataLoader(train_dataset_md, batch_size=64, shuffle=True)\n",
    "test_loader_md = DataLoader(test_dataset_md, batch_size=64, shuffle=False)"
   ]
  },
  {
   "cell_type": "code",
   "execution_count": 20,
   "metadata": {},
   "outputs": [
    {
     "name": "stdout",
     "output_type": "stream",
     "text": [
      "Epoch 1/200, Loss: 363.3898\n",
      "Epoch 2/200, Loss: 344.9529\n",
      "Epoch 3/200, Loss: 334.8779\n",
      "Epoch 4/200, Loss: 327.9018\n",
      "Epoch 5/200, Loss: 322.3867\n",
      "Epoch 6/200, Loss: 318.0481\n",
      "Epoch 7/200, Loss: 314.1565\n",
      "Epoch 8/200, Loss: 310.9347\n",
      "Epoch 9/200, Loss: 308.1047\n",
      "Epoch 10/200, Loss: 305.6279\n",
      "Epoch 11/200, Loss: 303.3166\n",
      "Epoch 12/200, Loss: 301.3785\n",
      "Epoch 13/200, Loss: 299.5306\n",
      "Epoch 14/200, Loss: 297.9556\n",
      "Epoch 15/200, Loss: 296.3798\n",
      "Epoch 16/200, Loss: 294.9706\n",
      "Epoch 17/200, Loss: 293.7424\n",
      "Epoch 18/200, Loss: 292.6783\n",
      "Epoch 19/200, Loss: 291.5630\n",
      "Epoch 20/200, Loss: 290.5566\n",
      "Epoch 21/200, Loss: 289.6655\n",
      "Epoch 22/200, Loss: 288.7686\n",
      "Epoch 23/200, Loss: 287.9861\n",
      "Epoch 24/200, Loss: 287.2303\n",
      "Epoch 25/200, Loss: 286.4458\n",
      "Epoch 26/200, Loss: 285.7505\n",
      "Epoch 27/200, Loss: 285.1155\n",
      "Epoch 28/200, Loss: 284.5521\n",
      "Epoch 29/200, Loss: 283.8950\n",
      "Epoch 30/200, Loss: 283.4254\n",
      "Epoch 31/200, Loss: 282.8311\n",
      "Epoch 32/200, Loss: 282.2424\n",
      "Epoch 33/200, Loss: 281.7999\n",
      "Epoch 34/200, Loss: 281.3927\n",
      "Epoch 35/200, Loss: 280.8910\n",
      "Epoch 36/200, Loss: 280.4303\n",
      "Epoch 37/200, Loss: 280.0947\n",
      "Epoch 38/200, Loss: 279.6733\n",
      "Epoch 39/200, Loss: 279.3051\n",
      "Epoch 40/200, Loss: 278.8878\n",
      "Epoch 41/200, Loss: 278.5515\n",
      "Epoch 42/200, Loss: 278.2024\n",
      "Epoch 43/200, Loss: 277.8884\n",
      "Epoch 44/200, Loss: 277.5369\n",
      "Epoch 45/200, Loss: 277.2312\n",
      "Epoch 46/200, Loss: 276.9190\n",
      "Epoch 47/200, Loss: 276.5436\n",
      "Epoch 48/200, Loss: 276.4409\n",
      "Epoch 49/200, Loss: 276.0483\n",
      "Epoch 50/200, Loss: 275.7514\n",
      "Epoch 51/200, Loss: 275.4724\n",
      "Epoch 52/200, Loss: 275.3009\n",
      "Epoch 53/200, Loss: 274.9558\n",
      "Epoch 54/200, Loss: 274.7722\n",
      "Epoch 55/200, Loss: 274.4990\n",
      "Epoch 56/200, Loss: 274.2690\n",
      "Epoch 57/200, Loss: 274.1007\n",
      "Epoch 58/200, Loss: 273.8961\n",
      "Epoch 59/200, Loss: 273.5681\n",
      "Epoch 60/200, Loss: 273.4474\n",
      "Epoch 61/200, Loss: 273.2278\n",
      "Epoch 62/200, Loss: 273.0157\n",
      "Epoch 63/200, Loss: 272.7077\n",
      "Epoch 64/200, Loss: 272.5714\n",
      "Epoch 65/200, Loss: 272.3112\n",
      "Epoch 66/200, Loss: 272.0940\n",
      "Epoch 67/200, Loss: 271.9644\n",
      "Epoch 68/200, Loss: 271.8198\n",
      "Epoch 69/200, Loss: 271.6193\n",
      "Epoch 70/200, Loss: 271.4009\n",
      "Epoch 71/200, Loss: 271.1963\n",
      "Epoch 72/200, Loss: 271.1778\n",
      "Epoch 73/200, Loss: 270.9777\n",
      "Epoch 74/200, Loss: 270.7160\n",
      "Epoch 75/200, Loss: 270.6318\n",
      "Epoch 76/200, Loss: 270.5238\n",
      "Epoch 77/200, Loss: 270.2427\n",
      "Epoch 78/200, Loss: 270.2064\n",
      "Epoch 79/200, Loss: 269.9919\n",
      "Epoch 80/200, Loss: 269.7929\n",
      "Epoch 81/200, Loss: 269.7328\n",
      "Epoch 82/200, Loss: 269.6447\n",
      "Epoch 83/200, Loss: 269.2860\n",
      "Epoch 84/200, Loss: 269.3351\n",
      "Epoch 85/200, Loss: 269.1440\n",
      "Epoch 86/200, Loss: 269.0227\n",
      "Epoch 87/200, Loss: 268.8879\n",
      "Epoch 88/200, Loss: 268.8606\n",
      "Epoch 89/200, Loss: 268.5627\n",
      "Epoch 90/200, Loss: 268.5202\n",
      "Epoch 91/200, Loss: 268.4043\n",
      "Epoch 92/200, Loss: 268.2849\n",
      "Epoch 93/200, Loss: 268.1610\n",
      "Epoch 94/200, Loss: 268.0931\n",
      "Epoch 95/200, Loss: 267.9105\n",
      "Epoch 96/200, Loss: 267.8622\n",
      "Epoch 97/200, Loss: 267.7027\n",
      "Epoch 98/200, Loss: 267.6340\n",
      "Epoch 99/200, Loss: 267.4749\n",
      "Epoch 100/200, Loss: 267.3217\n",
      "Epoch 101/200, Loss: 267.2937\n",
      "Epoch 102/200, Loss: 267.1299\n",
      "Epoch 103/200, Loss: 267.1363\n",
      "Epoch 104/200, Loss: 266.9625\n",
      "Epoch 105/200, Loss: 266.8409\n",
      "Epoch 106/200, Loss: 266.7566\n",
      "Epoch 107/200, Loss: 266.6110\n",
      "Epoch 108/200, Loss: 266.6038\n",
      "Epoch 109/200, Loss: 266.3895\n",
      "Epoch 110/200, Loss: 266.3019\n",
      "Epoch 111/200, Loss: 266.2377\n",
      "Epoch 112/200, Loss: 266.1802\n",
      "Epoch 113/200, Loss: 266.1395\n",
      "Epoch 114/200, Loss: 266.0106\n",
      "Epoch 115/200, Loss: 265.9096\n",
      "Epoch 116/200, Loss: 265.7854\n",
      "Epoch 117/200, Loss: 265.7252\n",
      "Epoch 118/200, Loss: 265.4818\n",
      "Epoch 119/200, Loss: 265.6335\n",
      "Epoch 120/200, Loss: 265.4359\n",
      "Epoch 121/200, Loss: 265.4016\n",
      "Epoch 122/200, Loss: 265.2719\n",
      "Epoch 123/200, Loss: 265.2203\n",
      "Epoch 124/200, Loss: 265.0959\n",
      "Epoch 125/200, Loss: 265.1340\n",
      "Epoch 126/200, Loss: 265.1685\n",
      "Epoch 127/200, Loss: 265.0203\n",
      "Epoch 128/200, Loss: 264.8382\n",
      "Epoch 129/200, Loss: 264.7461\n",
      "Epoch 130/200, Loss: 264.6229\n",
      "Epoch 131/200, Loss: 264.6774\n",
      "Epoch 132/200, Loss: 264.5754\n",
      "Epoch 133/200, Loss: 264.4897\n",
      "Epoch 134/200, Loss: 264.4612\n",
      "Epoch 135/200, Loss: 264.2204\n",
      "Epoch 136/200, Loss: 264.2348\n",
      "Epoch 137/200, Loss: 264.1442\n",
      "Epoch 138/200, Loss: 264.0901\n",
      "Epoch 139/200, Loss: 263.9715\n",
      "Epoch 140/200, Loss: 264.0444\n",
      "Epoch 141/200, Loss: 263.9752\n",
      "Epoch 142/200, Loss: 263.8352\n",
      "Epoch 143/200, Loss: 263.7695\n",
      "Epoch 144/200, Loss: 263.6490\n",
      "Epoch 145/200, Loss: 263.6309\n",
      "Epoch 146/200, Loss: 263.5839\n",
      "Epoch 147/200, Loss: 263.5544\n",
      "Epoch 148/200, Loss: 263.4109\n",
      "Epoch 149/200, Loss: 263.2438\n",
      "Epoch 150/200, Loss: 263.2539\n",
      "Epoch 151/200, Loss: 263.1448\n",
      "Epoch 152/200, Loss: 263.1256\n",
      "Epoch 153/200, Loss: 263.0500\n",
      "Epoch 154/200, Loss: 263.0267\n",
      "Epoch 155/200, Loss: 262.9102\n",
      "Epoch 156/200, Loss: 262.9881\n",
      "Epoch 157/200, Loss: 262.7654\n",
      "Epoch 158/200, Loss: 262.7016\n",
      "Epoch 159/200, Loss: 262.7896\n",
      "Epoch 160/200, Loss: 262.7102\n",
      "Epoch 161/200, Loss: 262.6129\n",
      "Epoch 162/200, Loss: 262.5045\n",
      "Epoch 163/200, Loss: 262.4551\n",
      "Epoch 164/200, Loss: 262.4620\n",
      "Epoch 165/200, Loss: 262.3096\n",
      "Epoch 166/200, Loss: 262.3436\n",
      "Epoch 167/200, Loss: 262.2371\n",
      "Epoch 168/200, Loss: 262.0615\n",
      "Epoch 169/200, Loss: 262.1966\n",
      "Epoch 170/200, Loss: 262.1362\n",
      "Epoch 171/200, Loss: 261.9778\n",
      "Epoch 172/200, Loss: 262.0978\n",
      "Epoch 173/200, Loss: 261.8823\n",
      "Epoch 174/200, Loss: 261.8317\n",
      "Epoch 175/200, Loss: 261.9128\n",
      "Epoch 176/200, Loss: 261.7648\n",
      "Epoch 177/200, Loss: 261.7109\n",
      "Epoch 178/200, Loss: 261.7149\n",
      "Epoch 179/200, Loss: 261.6364\n",
      "Epoch 180/200, Loss: 261.6409\n",
      "Epoch 181/200, Loss: 261.5489\n",
      "Epoch 182/200, Loss: 261.4655\n",
      "Epoch 183/200, Loss: 261.4785\n",
      "Epoch 184/200, Loss: 261.4868\n",
      "Epoch 185/200, Loss: 261.4048\n",
      "Epoch 186/200, Loss: 261.4299\n",
      "Epoch 187/200, Loss: 261.2331\n",
      "Epoch 188/200, Loss: 261.2210\n",
      "Epoch 189/200, Loss: 261.1345\n",
      "Epoch 190/200, Loss: 261.2053\n",
      "Epoch 191/200, Loss: 261.0848\n",
      "Epoch 192/200, Loss: 260.9367\n",
      "Epoch 193/200, Loss: 260.9666\n",
      "Epoch 194/200, Loss: 260.8252\n",
      "Epoch 195/200, Loss: 260.9467\n",
      "Epoch 196/200, Loss: 260.7607\n",
      "Epoch 197/200, Loss: 260.7723\n",
      "Epoch 198/200, Loss: 260.7333\n",
      "Epoch 199/200, Loss: 260.6729\n",
      "Epoch 200/200, Loss: 260.7295\n"
     ]
    }
   ],
   "source": [
    "model = train_and_get_model(train_loader_md, train_embeddings_md)"
   ]
  },
  {
   "cell_type": "code",
   "execution_count": 21,
   "metadata": {},
   "outputs": [
    {
     "name": "stdout",
     "output_type": "stream",
     "text": [
      "Test Accuracy: 0.7601\n"
     ]
    }
   ],
   "source": [
    "evaluate_model(model, test_loader_md)"
   ]
  },
  {
   "cell_type": "markdown",
   "metadata": {},
   "source": [
    "# Large"
   ]
  },
  {
   "cell_type": "code",
   "execution_count": 22,
   "metadata": {},
   "outputs": [
    {
     "name": "stderr",
     "output_type": "stream",
     "text": [
      "100%|██████████| 35000/35000 [03:38<00:00, 160.07it/s]\n",
      "100%|██████████| 15000/15000 [01:32<00:00, 161.79it/s]\n"
     ]
    }
   ],
   "source": [
    "# Preprocess the dataset\n",
    "train_embeddings_lg, filtered_train_labels_lg = prepare_data(train_texts, train_labels, nlp_lg)\n",
    "test_embeddings_lg, filtered_test_labels_lg = prepare_data(test_texts, test_labels, nlp_lg)"
   ]
  },
  {
   "cell_type": "code",
   "execution_count": 23,
   "metadata": {},
   "outputs": [
    {
     "name": "stdout",
     "output_type": "stream",
     "text": [
      "Embeddings dimension:  300\n"
     ]
    }
   ],
   "source": [
    "print(\"Embeddings dimension: \", train_embeddings_lg.shape[1])"
   ]
  },
  {
   "cell_type": "code",
   "execution_count": 24,
   "metadata": {},
   "outputs": [],
   "source": [
    "# Create PyTorch datasets\n",
    "train_dataset_lg = IMDBDataset(train_embeddings_lg, filtered_train_labels_lg)\n",
    "test_dataset_lg = IMDBDataset(test_embeddings_lg, filtered_test_labels_lg)"
   ]
  },
  {
   "cell_type": "code",
   "execution_count": 25,
   "metadata": {},
   "outputs": [],
   "source": [
    "train_loader_lg = DataLoader(train_dataset_lg, batch_size=64, shuffle=True)\n",
    "test_loader_lg = DataLoader(test_dataset_lg, batch_size=64, shuffle=False)"
   ]
  },
  {
   "cell_type": "code",
   "execution_count": 26,
   "metadata": {},
   "outputs": [
    {
     "name": "stdout",
     "output_type": "stream",
     "text": [
      "Epoch 1/200, Loss: 351.2266\n",
      "Epoch 2/200, Loss: 312.6541\n",
      "Epoch 3/200, Loss: 289.7222\n",
      "Epoch 4/200, Loss: 274.1645\n",
      "Epoch 5/200, Loss: 262.8609\n",
      "Epoch 6/200, Loss: 254.2484\n",
      "Epoch 7/200, Loss: 247.3957\n",
      "Epoch 8/200, Loss: 241.8090\n",
      "Epoch 9/200, Loss: 237.0766\n",
      "Epoch 10/200, Loss: 233.2017\n",
      "Epoch 11/200, Loss: 229.6388\n",
      "Epoch 12/200, Loss: 226.8012\n",
      "Epoch 13/200, Loss: 224.1167\n",
      "Epoch 14/200, Loss: 221.7712\n",
      "Epoch 15/200, Loss: 219.7670\n",
      "Epoch 16/200, Loss: 217.9245\n",
      "Epoch 17/200, Loss: 216.2579\n",
      "Epoch 18/200, Loss: 214.6836\n",
      "Epoch 19/200, Loss: 213.2655\n",
      "Epoch 20/200, Loss: 212.1026\n",
      "Epoch 21/200, Loss: 210.8025\n",
      "Epoch 22/200, Loss: 209.8309\n",
      "Epoch 23/200, Loss: 208.7982\n",
      "Epoch 24/200, Loss: 207.8887\n",
      "Epoch 25/200, Loss: 206.9833\n",
      "Epoch 26/200, Loss: 206.1955\n",
      "Epoch 27/200, Loss: 205.4459\n",
      "Epoch 28/200, Loss: 204.6701\n",
      "Epoch 29/200, Loss: 204.0531\n",
      "Epoch 30/200, Loss: 203.5020\n",
      "Epoch 31/200, Loss: 202.8612\n",
      "Epoch 32/200, Loss: 202.2944\n",
      "Epoch 33/200, Loss: 201.7616\n",
      "Epoch 34/200, Loss: 201.2687\n",
      "Epoch 35/200, Loss: 200.7906\n",
      "Epoch 36/200, Loss: 200.2516\n",
      "Epoch 37/200, Loss: 199.8768\n",
      "Epoch 38/200, Loss: 199.4736\n",
      "Epoch 39/200, Loss: 199.0198\n",
      "Epoch 40/200, Loss: 198.6231\n",
      "Epoch 41/200, Loss: 198.2685\n",
      "Epoch 42/200, Loss: 197.9360\n",
      "Epoch 43/200, Loss: 197.5642\n",
      "Epoch 44/200, Loss: 197.2576\n",
      "Epoch 45/200, Loss: 196.9492\n",
      "Epoch 46/200, Loss: 196.6493\n",
      "Epoch 47/200, Loss: 196.3359\n",
      "Epoch 48/200, Loss: 196.1019\n",
      "Epoch 49/200, Loss: 195.7910\n",
      "Epoch 50/200, Loss: 195.5581\n",
      "Epoch 51/200, Loss: 195.2407\n",
      "Epoch 52/200, Loss: 195.1250\n",
      "Epoch 53/200, Loss: 194.8228\n",
      "Epoch 54/200, Loss: 194.5732\n",
      "Epoch 55/200, Loss: 194.3728\n",
      "Epoch 56/200, Loss: 194.1631\n",
      "Epoch 57/200, Loss: 193.8914\n",
      "Epoch 58/200, Loss: 193.7079\n",
      "Epoch 59/200, Loss: 193.5912\n",
      "Epoch 60/200, Loss: 193.3539\n",
      "Epoch 61/200, Loss: 193.3039\n",
      "Epoch 62/200, Loss: 193.0874\n",
      "Epoch 63/200, Loss: 192.8772\n",
      "Epoch 64/200, Loss: 192.6738\n",
      "Epoch 65/200, Loss: 192.5023\n",
      "Epoch 66/200, Loss: 192.3383\n",
      "Epoch 67/200, Loss: 192.2287\n",
      "Epoch 68/200, Loss: 192.0353\n",
      "Epoch 69/200, Loss: 191.9046\n",
      "Epoch 70/200, Loss: 191.7272\n",
      "Epoch 71/200, Loss: 191.6393\n",
      "Epoch 72/200, Loss: 191.4827\n",
      "Epoch 73/200, Loss: 191.2818\n",
      "Epoch 74/200, Loss: 191.1516\n",
      "Epoch 75/200, Loss: 191.1476\n",
      "Epoch 76/200, Loss: 190.9586\n",
      "Epoch 77/200, Loss: 190.8247\n",
      "Epoch 78/200, Loss: 190.6498\n",
      "Epoch 79/200, Loss: 190.5948\n",
      "Epoch 80/200, Loss: 190.4636\n",
      "Epoch 81/200, Loss: 190.3695\n",
      "Epoch 82/200, Loss: 190.2731\n",
      "Epoch 83/200, Loss: 190.1911\n",
      "Epoch 84/200, Loss: 190.0628\n",
      "Epoch 85/200, Loss: 189.9821\n",
      "Epoch 86/200, Loss: 189.8329\n",
      "Epoch 87/200, Loss: 189.7244\n",
      "Epoch 88/200, Loss: 189.6440\n",
      "Epoch 89/200, Loss: 189.6146\n",
      "Epoch 90/200, Loss: 189.4488\n",
      "Epoch 91/200, Loss: 189.3108\n",
      "Epoch 92/200, Loss: 189.2786\n",
      "Epoch 93/200, Loss: 189.2029\n",
      "Epoch 94/200, Loss: 189.0604\n",
      "Epoch 95/200, Loss: 188.9761\n",
      "Epoch 96/200, Loss: 188.9144\n",
      "Epoch 97/200, Loss: 188.8397\n",
      "Epoch 98/200, Loss: 188.7610\n",
      "Epoch 99/200, Loss: 188.6157\n",
      "Epoch 100/200, Loss: 188.5480\n",
      "Epoch 101/200, Loss: 188.5101\n",
      "Epoch 102/200, Loss: 188.4098\n",
      "Epoch 103/200, Loss: 188.3910\n",
      "Epoch 104/200, Loss: 188.2389\n",
      "Epoch 105/200, Loss: 188.2084\n",
      "Epoch 106/200, Loss: 188.0935\n",
      "Epoch 107/200, Loss: 188.0374\n",
      "Epoch 108/200, Loss: 187.9943\n",
      "Epoch 109/200, Loss: 187.8505\n",
      "Epoch 110/200, Loss: 187.8456\n",
      "Epoch 111/200, Loss: 187.7261\n",
      "Epoch 112/200, Loss: 187.6684\n",
      "Epoch 113/200, Loss: 187.6169\n",
      "Epoch 114/200, Loss: 187.6280\n",
      "Epoch 115/200, Loss: 187.5183\n",
      "Epoch 116/200, Loss: 187.5011\n",
      "Epoch 117/200, Loss: 187.3912\n",
      "Epoch 118/200, Loss: 187.3650\n",
      "Epoch 119/200, Loss: 187.3116\n",
      "Epoch 120/200, Loss: 187.1929\n",
      "Epoch 121/200, Loss: 187.1827\n",
      "Epoch 122/200, Loss: 187.1493\n",
      "Epoch 123/200, Loss: 187.0218\n",
      "Epoch 124/200, Loss: 187.0545\n",
      "Epoch 125/200, Loss: 186.9258\n",
      "Epoch 126/200, Loss: 186.9002\n",
      "Epoch 127/200, Loss: 186.8538\n",
      "Epoch 128/200, Loss: 186.7512\n",
      "Epoch 129/200, Loss: 186.7489\n",
      "Epoch 130/200, Loss: 186.7354\n",
      "Epoch 131/200, Loss: 186.6261\n",
      "Epoch 132/200, Loss: 186.5838\n",
      "Epoch 133/200, Loss: 186.5735\n",
      "Epoch 134/200, Loss: 186.5561\n",
      "Epoch 135/200, Loss: 186.4828\n",
      "Epoch 136/200, Loss: 186.4320\n",
      "Epoch 137/200, Loss: 186.3416\n",
      "Epoch 138/200, Loss: 186.2881\n",
      "Epoch 139/200, Loss: 186.2639\n",
      "Epoch 140/200, Loss: 186.2362\n",
      "Epoch 141/200, Loss: 186.1578\n",
      "Epoch 142/200, Loss: 186.1364\n",
      "Epoch 143/200, Loss: 186.0859\n",
      "Epoch 144/200, Loss: 186.0412\n",
      "Epoch 145/200, Loss: 185.9652\n",
      "Epoch 146/200, Loss: 185.9525\n",
      "Epoch 147/200, Loss: 185.9125\n",
      "Epoch 148/200, Loss: 185.8801\n",
      "Epoch 149/200, Loss: 185.8337\n",
      "Epoch 150/200, Loss: 185.7454\n",
      "Epoch 151/200, Loss: 185.7535\n",
      "Epoch 152/200, Loss: 185.7825\n",
      "Epoch 153/200, Loss: 185.7146\n",
      "Epoch 154/200, Loss: 185.6543\n",
      "Epoch 155/200, Loss: 185.5806\n",
      "Epoch 156/200, Loss: 185.6160\n",
      "Epoch 157/200, Loss: 185.5567\n",
      "Epoch 158/200, Loss: 185.4608\n",
      "Epoch 159/200, Loss: 185.4848\n",
      "Epoch 160/200, Loss: 185.3697\n",
      "Epoch 161/200, Loss: 185.3833\n",
      "Epoch 162/200, Loss: 185.3241\n",
      "Epoch 163/200, Loss: 185.3597\n",
      "Epoch 164/200, Loss: 185.2827\n",
      "Epoch 165/200, Loss: 185.2239\n",
      "Epoch 166/200, Loss: 185.2746\n",
      "Epoch 167/200, Loss: 185.1638\n",
      "Epoch 168/200, Loss: 185.1480\n",
      "Epoch 169/200, Loss: 185.1522\n",
      "Epoch 170/200, Loss: 185.0607\n",
      "Epoch 171/200, Loss: 185.0729\n",
      "Epoch 172/200, Loss: 185.0659\n",
      "Epoch 173/200, Loss: 185.0176\n",
      "Epoch 174/200, Loss: 184.9800\n",
      "Epoch 175/200, Loss: 184.9057\n",
      "Epoch 176/200, Loss: 184.9218\n",
      "Epoch 177/200, Loss: 184.9250\n",
      "Epoch 178/200, Loss: 184.8638\n",
      "Epoch 179/200, Loss: 184.8328\n",
      "Epoch 180/200, Loss: 184.8516\n",
      "Epoch 181/200, Loss: 184.7393\n",
      "Epoch 182/200, Loss: 184.7875\n",
      "Epoch 183/200, Loss: 184.7067\n",
      "Epoch 184/200, Loss: 184.7331\n",
      "Epoch 185/200, Loss: 184.6963\n",
      "Epoch 186/200, Loss: 184.6315\n",
      "Epoch 187/200, Loss: 184.5563\n",
      "Epoch 188/200, Loss: 184.6157\n",
      "Epoch 189/200, Loss: 184.5381\n",
      "Epoch 190/200, Loss: 184.4851\n",
      "Epoch 191/200, Loss: 184.5510\n",
      "Epoch 192/200, Loss: 184.5051\n",
      "Epoch 193/200, Loss: 184.4525\n",
      "Epoch 194/200, Loss: 184.4205\n",
      "Epoch 195/200, Loss: 184.3906\n",
      "Epoch 196/200, Loss: 184.3474\n",
      "Epoch 197/200, Loss: 184.3567\n",
      "Epoch 198/200, Loss: 184.3482\n",
      "Epoch 199/200, Loss: 184.2872\n",
      "Epoch 200/200, Loss: 184.2559\n"
     ]
    }
   ],
   "source": [
    "model = train_and_get_model(train_loader_lg, train_embeddings_lg)"
   ]
  },
  {
   "cell_type": "code",
   "execution_count": 27,
   "metadata": {},
   "outputs": [
    {
     "name": "stdout",
     "output_type": "stream",
     "text": [
      "Test Accuracy: 0.8552\n"
     ]
    }
   ],
   "source": [
    "evaluate_model(model, test_loader_lg)"
   ]
  },
  {
   "cell_type": "code",
   "execution_count": null,
   "metadata": {},
   "outputs": [],
   "source": []
  }
 ],
 "metadata": {
  "kernelspec": {
   "display_name": ".venv",
   "language": "python",
   "name": "python3"
  },
  "language_info": {
   "codemirror_mode": {
    "name": "ipython",
    "version": 3
   },
   "file_extension": ".py",
   "mimetype": "text/x-python",
   "name": "python",
   "nbconvert_exporter": "python",
   "pygments_lexer": "ipython3",
   "version": "3.12.5"
  }
 },
 "nbformat": 4,
 "nbformat_minor": 2
}
